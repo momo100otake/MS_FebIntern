{
 "cells": [
  {
   "cell_type": "code",
   "execution_count": 1,
   "metadata": {},
   "outputs": [
    {
     "name": "stdout",
     "output_type": "stream",
     "text": [
      "Defaulting to user installation because normal site-packages is not writeable\n",
      "Collecting azure-cognitiveservices-speech\n",
      "  Downloading azure_cognitiveservices_speech-1.25.0-py3-none-manylinux1_x86_64.whl (2.7 MB)\n",
      "\u001b[2K     \u001b[90m━━━━━━━━━━━━━━━━━━━━━━━━━━━━━━━━━━━━━━━━\u001b[0m \u001b[32m2.7/2.7 MB\u001b[0m \u001b[31m15.8 MB/s\u001b[0m eta \u001b[36m0:00:00\u001b[0ma \u001b[36m0:00:01\u001b[0m\n",
      "\u001b[?25hInstalling collected packages: azure-cognitiveservices-speech\n",
      "Successfully installed azure-cognitiveservices-speech-1.25.0\n"
     ]
    }
   ],
   "source": [
    "!pip install azure-cognitiveservices-speech"
   ]
  },
  {
   "cell_type": "code",
   "execution_count": 1,
   "metadata": {},
   "outputs": [
    {
     "name": "stdout",
     "output_type": "stream",
     "text": [
      "{\"RecognitionStatus\":\"Success\",\"Offset\":20200000,\"Duration\":219600000,\"NBest\":[{\"Confidence\":0.8715635,\"Lexical\":\"道 が つづら 折り に なって いよいよ 天城峠 に 近づいた と 思う 頃 雨脚 が 杉 の 密林 を 白く 染め ながら すさまじい 速さ で ふもと から 私 を 追って きた 私 は 二十歳 高等 学校 の 制帽 を かぶり 紺 が すり の 着物 に 袴 を 履き 学生 鞄 を 肩 に 欠けていた ひとり 伊豆 の ため に 出て から 四日 目 の こと だった\",\"ITN\":\"道 が つづら 折り に なって いよいよ 天城峠 に 近づいた と 思う 頃 雨脚 が 杉 の 密林 を 白く 染め ながら すさまじい 速さ で ふもと から 私 を 追って きた 私 は 20歳 高等 学校 の 制帽 を かぶり 紺 が すり の 着物 に 袴 を 履き 学生 鞄 を 肩 に 欠けていた ひとり 伊豆 の ため に 出て から 4日 目 の こと だった\",\"MaskedITN\":\"道がつづら折りになって、いよいよ天城峠に近づいたと思う頃、雨脚が杉の密林を白く染めながら、すさまじい速さでふもとから私を追ってきた 私は20歳高等学校の制帽をかぶり、紺がすりの着物に袴を履き、学生鞄を肩に欠けていた ひとり伊豆のために出てから4日目のことだった\",\"Display\":\"道がつづら折りになって、いよいよ天城峠に近づいたと思う頃、雨脚が杉の密林を白く染めながら、すさまじい速さでふもとから私を追ってきた。 私は20歳。高等学校の制帽をかぶり、紺がすりの着物に袴を履き、学生鞄を肩に欠けていた。 ひとり伊豆のために出てから4日目のことだった。\"}],\"DisplayText\":\"道がつづら折りになって、いよいよ天城峠に近づいたと思う頃、雨脚が杉の密林を白く染めながら、すさまじい速さでふもとから私を追ってきた。私は20歳。高等学校の制帽をかぶり、紺がすりの着物に袴を履き、学生鞄を肩に欠けていた。ひとり伊豆のために出てから4日目のことだった。\"}\n"
     ]
    }
   ],
   "source": [
    "import requests\n",
    "\n",
    "endpoint = \"https://eastus.stt.speech.microsoft.com/speech/recognition/conversation/cognitiveservices/v1?language=ja-JP&format=detailed\"\n",
    "headers = {\n",
    "    \"Content-Type\" : \"audio/wav\",\n",
    "    \"Ocp-Apim-Subscription-Key\": \"a8b8864f9c6942679dc6e34369234cd8\",\n",
    "}\n",
    "response = requests.post(endpoint, headers=headers, data=open(\"伊豆の踊り子.wav\", \"rb\"))\n",
    "print(response.text)"
   ]
  }
 ],
 "metadata": {
  "kernelspec": {
   "display_name": "Python 3",
   "language": "python",
   "name": "python3"
  },
  "language_info": {
   "codemirror_mode": {
    "name": "ipython",
    "version": 3
   },
   "file_extension": ".py",
   "mimetype": "text/x-python",
   "name": "python",
   "nbconvert_exporter": "python",
   "pygments_lexer": "ipython3",
   "version": "3.10.6"
  },
  "orig_nbformat": 4,
  "vscode": {
   "interpreter": {
    "hash": "916dbcbb3f70747c44a77c7bcd40155683ae19c65e1c03b4aa3499c5328201f1"
   }
  }
 },
 "nbformat": 4,
 "nbformat_minor": 2
}
