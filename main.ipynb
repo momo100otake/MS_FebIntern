{
 "cells": [
  {
   "cell_type": "code",
   "execution_count": 1,
   "metadata": {},
   "outputs": [
    {
     "name": "stdout",
     "output_type": "stream",
     "text": [
      "こんにちは、私は学生です。 今日はとてもいい天気ですね。 これからよろしくお願いします。\n"
     ]
    }
   ],
   "source": [
    "import requests\n",
    "import json\n",
    "\n",
    "endpoint = \"https://eastus.stt.speech.microsoft.com/speech/recognition/conversation/cognitiveservices/v1?language=ja-JP&format=detailed\"\n",
    "headers = {\n",
    "    \"Content-Type\" : \"audio/wav\",\n",
    "    \"Ocp-Apim-Subscription-Key\": \"a8b8864f9c6942679dc6e34369234cd8\",\n",
    "}\n",
    "response = requests.post(endpoint, headers=headers, data=open(\"jpn-long.wav\", \"rb\"))\n",
    "text1 = json.loads(response.text)\n",
    "text1 = text1['NBest'][0]['Display']\n",
    "print(text1)"
   ]
  },
  {
   "cell_type": "code",
   "execution_count": 2,
   "metadata": {},
   "outputs": [
    {
     "name": "stdout",
     "output_type": "stream",
     "text": [
      "\n",
      "\n",
      "こんにちは、ごきげんいかがですか？ 私も学生ですが、今日は真夏の暑さというよりもいいお日様ですね。 宜しくお願いします。\n"
     ]
    }
   ],
   "source": [
    "import json\n",
    "\n",
    "\n",
    "endpoint = \"https://openai-handson.openai.azure.com/openai/deployments/test-davinci/completions?api-version=2022-12-01\"\n",
    "headers = {\n",
    "    \"Content-Type\" : \"application/json\",\n",
    "    \"api-key\": \"a6827ec52aa3419885dd433e5d68ec14\",\n",
    "}\n",
    "\n",
    "body = {\n",
    "    \"prompt\": text1,\n",
    "    \"temperature\": 0.9,\n",
    "    \"top_p\": 1,\n",
    "    \"frequency_penalty\": 0,\n",
    "    \"presence_penalty\": 0,\n",
    "    \"best_of\": 1,\n",
    "    \"max_tokens\": 300\n",
    "}\n",
    "\n",
    "response = requests.post(endpoint, headers=headers, data=json.dumps(body))\n",
    "\n",
    "text2 = json.loads(response.text)\n",
    "text2 = text2['choices'][0]['text']\n",
    "print(text2)"
   ]
  },
  {
   "cell_type": "code",
   "execution_count": 3,
   "metadata": {},
   "outputs": [
    {
     "name": "stdout",
     "output_type": "stream",
     "text": [
      "音声ファイル作成完了\n"
     ]
    }
   ],
   "source": [
    "endpoint = \"https://eastus.tts.speech.microsoft.com/cognitiveservices/v1\"\n",
    "\n",
    "headers = {\n",
    "    \"Ocp-Apim-Subscription-Key\": 'a8b8864f9c6942679dc6e34369234cd8',\n",
    "    'Content-Type': 'application/ssml+xml',\n",
    "    'X-Microsoft-OutputFormat': 'riff-24khz-16bit-mono-pcm',\n",
    "    'User-Agent': 'openAI'\n",
    "}\n",
    "\n",
    "body = \"<speak version='1.0' xml:lang='ja-JP'><voice xml:lang='ja-JP' xml:gender='Female' name='Microsoft Server Speech Text to Speech Voice (ja-JP, NanamiNeural)'>{}</voice></speak>\".format(text2)\n",
    "\n",
    "    \n",
    "# リクエストを送信    \n",
    "response = requests.post(endpoint, headers=headers, data=body.encode('utf-8'))\n",
    "\n",
    "# レスポンスを受け取る\n",
    "audio_data = response.content\n",
    " \n",
    "# ファイルに保存    \n",
    "with open('output.wav', 'wb') as f:\n",
    "    f.write(audio_data)\n",
    "print(\"音声ファイル作成完了\")"
   ]
  }
 ],
 "metadata": {
  "kernelspec": {
   "display_name": "Python 3",
   "language": "python",
   "name": "python3"
  },
  "language_info": {
   "codemirror_mode": {
    "name": "ipython",
    "version": 3
   },
   "file_extension": ".py",
   "mimetype": "text/x-python",
   "name": "python",
   "nbconvert_exporter": "python",
   "pygments_lexer": "ipython3",
   "version": "3.10.6"
  },
  "orig_nbformat": 4,
  "vscode": {
   "interpreter": {
    "hash": "916dbcbb3f70747c44a77c7bcd40155683ae19c65e1c03b4aa3499c5328201f1"
   }
  }
 },
 "nbformat": 4,
 "nbformat_minor": 2
}
